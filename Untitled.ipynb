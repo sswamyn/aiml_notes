{
 "cells": [
  {
   "cell_type": "markdown",
   "id": "d388049d-78a1-4742-97a3-05d89fe283ec",
   "metadata": {},
   "source": [
    "## Draft solution for friends @ Cabot soultions "
   ]
  },
  {
   "cell_type": "code",
   "execution_count": null,
   "id": "bada9620-ceef-4772-99fc-3c958f406ac3",
   "metadata": {},
   "outputs": [],
   "source": [
    "from transformers import TrOCRProcessor, VisionEncoderDecoderModel\n",
    "import requests\n",
    "from PIL import Image\n"
   ]
  },
  {
   "cell_type": "code",
   "execution_count": null,
   "id": "b132d269-8d9d-4b8c-b180-6719cf5a9954",
   "metadata": {},
   "outputs": [],
   "source": [
    "\n",
    "processor = TrOCRProcessor.from_pretrained(\"microsoft/trocr-base-handwritten\")\n",
    "model = VisionEncoderDecoderModel.from_pretrained(\"microsoft/trocr-base-handwritten\")\n",
    "\n",
    "# load image from the IAM dataset\n",
    "url = \"https://fki.tic.heia-fr.ch/static/img/a01-122-02.jpg\"\n",
    "image = Image.open(requests.get(url, stream=True).raw).convert(\"RGB\")\n",
    "\n",
    "pixel_values = processor(image, return_tensors=\"pt\").pixel_values\n",
    "generated_ids = model.generate(pixel_values)\n",
    "\n",
    "generated_text = processor.batch_decode(generated_ids, skip_special_tokens=True)[0]"
   ]
  },
  {
   "cell_type": "code",
   "execution_count": null,
   "id": "331fa982-7fc3-4035-af10-8a18a3890aca",
   "metadata": {},
   "outputs": [],
   "source": [
    "processor = TrOCRProcessor.from_pretrained(\"microsoft/trocr-base-handwritten\")\n",
    "model = VisionEncoderDecoderModel.from_pretrained(\"microsoft/trocr-base-handwritten\")\n"
   ]
  },
  {
   "cell_type": "code",
   "execution_count": null,
   "id": "d73fd908-e51f-4368-b4a8-6a51bb4b904e",
   "metadata": {},
   "outputs": [],
   "source": [
    "\n",
    "image = Image.open()"
   ]
  },
  {
   "cell_type": "code",
   "execution_count": null,
   "id": "9a460d02-4065-4639-a0d7-93c7ea8cc045",
   "metadata": {},
   "outputs": [],
   "source": [
    "# load image from the IAM dataset\n",
    "url = \"https://fki.tic.heia-fr.ch/static/img/a01-122-02.jpg\"\n",
    "image = Image.open(requests.get(url, stream=True).raw).convert(\"RGB\")\n"
   ]
  },
  {
   "cell_type": "code",
   "execution_count": null,
   "id": "a6b54b72-ab61-40c0-89ba-ef9bf47bb14a",
   "metadata": {},
   "outputs": [],
   "source": [
    "\n",
    "pixel_values = processor(image, return_tensors=\"pt\").pixel_values\n",
    "generated_ids = model.generate(pixel_values)\n",
    "\n",
    "generated_text = processor.batch_decode(generated_ids, skip_special_tokens=True)[0]"
   ]
  },
  {
   "cell_type": "markdown",
   "id": "e7872063-17b3-4827-82ef-c512037647ba",
   "metadata": {},
   "source": [
    "## Alternative 2 "
   ]
  },
  {
   "cell_type": "code",
   "execution_count": null,
   "id": "a8e6d249-f7c3-4d8a-82de-281e2d3020a9",
   "metadata": {},
   "outputs": [],
   "source": [
    "from doctr.io import DocumentFile\n",
    "from doctr.models import ocr_predictor\n"
   ]
  },
  {
   "cell_type": "code",
   "execution_count": null,
   "id": "e7868602-ba0e-4e6a-af9a-fb9c9ac475e2",
   "metadata": {},
   "outputs": [],
   "source": [
    "model = ocr_predictor(pretrained=True)\n",
    "# PDF\n",
    "doc = DocumentFile.from_pdf(\"path/to/your/doc.pdf\")\n",
    "# Images\n",
    "multi_img_doc = DocumentFile.from_images([\"path/to/page1.jpg\", \n",
    "                                          \"path/to/page2.jpg\"])\n",
    "# Analyze\n",
    "result = model(doc)"
   ]
  }
 ],
 "metadata": {
  "kernelspec": {
   "display_name": "Python 3 (ipykernel)",
   "language": "python",
   "name": "python3"
  },
  "language_info": {
   "codemirror_mode": {
    "name": "ipython",
    "version": 3
   },
   "file_extension": ".py",
   "mimetype": "text/x-python",
   "name": "python",
   "nbconvert_exporter": "python",
   "pygments_lexer": "ipython3",
   "version": "3.12.1"
  }
 },
 "nbformat": 4,
 "nbformat_minor": 5
}
